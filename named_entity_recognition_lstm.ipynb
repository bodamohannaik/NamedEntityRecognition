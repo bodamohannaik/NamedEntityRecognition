{
  "nbformat": 4,
  "nbformat_minor": 0,
  "metadata": {
    "colab": {
      "name": "named_entity_recognition_lstm.ipynb",
      "provenance": [],
      "collapsed_sections": [
        "FYomZitmslgr",
        "dZrKp8Bswt28",
        "s5SX-xXZ0WU7",
        "fiLBtnMH2E0l",
        "zPSVGchG7xoU",
        "gUctwcwFXYEY",
        "5hQiQIIheURP"
      ],
      "authorship_tag": "ABX9TyOOkfQmgfPqcfA5neu2yKOn",
      "include_colab_link": true
    },
    "kernelspec": {
      "name": "python3",
      "display_name": "Python 3"
    },
    "language_info": {
      "name": "python"
    },
    "accelerator": "GPU",
    "gpuClass": "standard"
  },
  "cells": [
    {
      "cell_type": "markdown",
      "metadata": {
        "id": "view-in-github",
        "colab_type": "text"
      },
      "source": [
        "<a href=\"https://colab.research.google.com/github/bodamohannaik/NamedEntityRecognition/blob/master/named_entity_recognition_lstm.ipynb\" target=\"_parent\"><img src=\"https://colab.research.google.com/assets/colab-badge.svg\" alt=\"Open In Colab\"/></a>"
      ]
    },
    {
      "cell_type": "markdown",
      "source": [
        "# Named Entity Recognition\n",
        "Named Entity Recognition is a sub task of information extraction, which classifies a chunk of text from unstructed text to a predefined category such as Geographical, Geopolitical, Organization, Person, Event and Time etc\n",
        "\n",
        "Ref: https://en.wikipedia.org/wiki/Named-entity_recognition"
      ],
      "metadata": {
        "id": "9PGIbzA0pR1x"
      }
    },
    {
      "cell_type": "markdown",
      "source": [
        "## Download Dataset from Kaggle\n",
        "https://www.kaggle.com/datasets/abhinavwalia95/entity-annotated-corpus"
      ],
      "metadata": {
        "id": "FYomZitmslgr"
      }
    },
    {
      "cell_type": "code",
      "execution_count": 1,
      "metadata": {
        "id": "K0ygWxOprvZO"
      },
      "outputs": [],
      "source": [
        "# Install kaggle\n",
        "!pip install -q kaggle"
      ]
    },
    {
      "cell_type": "code",
      "source": [
        "# configure kaggle\n",
        "# remove old kaggle.json if you are rerunning this cell again in the same session\n",
        "!rm -f kaggle.json\n",
        "# module upload files to colab notebook\n",
        "from google.colab import files\n",
        "files.upload()\n",
        "# remove directory if exists\n",
        "!rm -rf ~/.kaggle\n",
        "# create directory\n",
        "!mkdir ~/.kaggle\n",
        "# copy file\n",
        "!cp kaggle.json ~/.kaggle\n",
        "# Change Permission\n",
        "!chmod 600 ~/.kaggle/kaggle.json"
      ],
      "metadata": {
        "colab": {
          "resources": {
            "http://localhost:8080/nbextensions/google.colab/files.js": {
              "data": "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",
              "ok": true,
              "headers": [
                [
                  "content-type",
                  "application/javascript"
                ]
              ],
              "status": 200,
              "status_text": ""
            }
          },
          "base_uri": "https://localhost:8080/",
          "height": 74
        },
        "id": "wpgB0Sx12A-M",
        "outputId": "96b27d5c-a046-478d-bf7c-e69347b67c43"
      },
      "execution_count": 2,
      "outputs": [
        {
          "output_type": "display_data",
          "data": {
            "text/plain": [
              "<IPython.core.display.HTML object>"
            ],
            "text/html": [
              "\n",
              "     <input type=\"file\" id=\"files-f004d5c9-c53a-4cb8-bca3-60fcd9f0b48c\" name=\"files[]\" multiple disabled\n",
              "        style=\"border:none\" />\n",
              "     <output id=\"result-f004d5c9-c53a-4cb8-bca3-60fcd9f0b48c\">\n",
              "      Upload widget is only available when the cell has been executed in the\n",
              "      current browser session. Please rerun this cell to enable.\n",
              "      </output>\n",
              "      <script src=\"/nbextensions/google.colab/files.js\"></script> "
            ]
          },
          "metadata": {}
        },
        {
          "output_type": "stream",
          "name": "stdout",
          "text": [
            "Saving kaggle.json to kaggle.json\n"
          ]
        }
      ]
    },
    {
      "cell_type": "code",
      "source": [
        "# download dataset and unzip\n",
        "!kaggle datasets download --unzip abhinavwalia95/entity-annotated-corpus"
      ],
      "metadata": {
        "colab": {
          "base_uri": "https://localhost:8080/"
        },
        "id": "OcFqk17z4Rd8",
        "outputId": "2ea0afaf-0919-480b-b1f2-e255a2cab976"
      },
      "execution_count": 3,
      "outputs": [
        {
          "output_type": "stream",
          "name": "stdout",
          "text": [
            "Downloading entity-annotated-corpus.zip to /content\n",
            " 83% 22.0M/26.4M [00:00<00:00, 116MB/s] \n",
            "100% 26.4M/26.4M [00:00<00:00, 118MB/s]\n"
          ]
        }
      ]
    },
    {
      "cell_type": "markdown",
      "source": [
        "## Import Modules"
      ],
      "metadata": {
        "id": "dZrKp8Bswt28"
      }
    },
    {
      "cell_type": "code",
      "source": [
        "# import modules\n",
        "import matplotlib.pyplot as plt\n",
        "import numpy as np\n",
        "import os\n",
        "import pandas as pd\n",
        "import tensorflow as tf"
      ],
      "metadata": {
        "id": "gpZ8gziN85MU"
      },
      "execution_count": 4,
      "outputs": []
    },
    {
      "cell_type": "code",
      "source": [
        "import random\n",
        "seed = 33\n",
        "random.seed(seed)\n",
        "np.random.seed(seed)"
      ],
      "metadata": {
        "id": "eSuJKx6e-Bwa"
      },
      "execution_count": 5,
      "outputs": []
    },
    {
      "cell_type": "markdown",
      "source": [
        "## Load Dataset"
      ],
      "metadata": {
        "id": "s5SX-xXZ0WU7"
      }
    },
    {
      "cell_type": "code",
      "source": [
        "# Look at the sample of the ner.csv\n",
        "ner_df = pd.read_csv('ner.csv', encoding=\"latin-1\", on_bad_lines=\"skip\", index_col=0)\n",
        "ner_df.head()"
      ],
      "metadata": {
        "colab": {
          "base_uri": "https://localhost:8080/",
          "height": 0
        },
        "id": "IYUvnfj48y5F",
        "outputId": "d91a481e-8d84-4a01-9752-5976326a510e"
      },
      "execution_count": 6,
      "outputs": [
        {
          "output_type": "execute_result",
          "data": {
            "text/plain": [
              "      lemma next-lemma next-next-lemma next-next-pos next-next-shape  \\\n",
              "0  thousand         of        demonstr           NNS       lowercase   \n",
              "1        of   demonstr            have           VBP       lowercase   \n",
              "2  demonstr       have           march           VBN       lowercase   \n",
              "3      have      march         through            IN       lowercase   \n",
              "4     march    through          london           NNP     capitalized   \n",
              "\n",
              "  next-next-word next-pos next-shape      next-word  pos  ... prev-prev-lemma  \\\n",
              "0  demonstrators       IN  lowercase             of  NNS  ...      __start2__   \n",
              "1           have      NNS  lowercase  demonstrators   IN  ...      __start1__   \n",
              "2        marched      VBP  lowercase           have  NNS  ...        thousand   \n",
              "3        through      VBN  lowercase        marched  VBP  ...              of   \n",
              "4         London       IN  lowercase        through  VBN  ...        demonstr   \n",
              "\n",
              "  prev-prev-pos prev-prev-shape prev-prev-word   prev-shape      prev-word  \\\n",
              "0    __START2__        wildcard     __START2__     wildcard     __START1__   \n",
              "1    __START1__        wildcard     __START1__  capitalized      Thousands   \n",
              "2           NNS     capitalized      Thousands    lowercase             of   \n",
              "3            IN       lowercase             of    lowercase  demonstrators   \n",
              "4           NNS       lowercase  demonstrators    lowercase           have   \n",
              "\n",
              "  sentence_idx        shape           word tag  \n",
              "0          1.0  capitalized      Thousands   O  \n",
              "1          1.0    lowercase             of   O  \n",
              "2          1.0    lowercase  demonstrators   O  \n",
              "3          1.0    lowercase           have   O  \n",
              "4          1.0    lowercase        marched   O  \n",
              "\n",
              "[5 rows x 24 columns]"
            ],
            "text/html": [
              "\n",
              "  <div id=\"df-11c248dc-1119-49b4-96dc-8ccbf96c238f\">\n",
              "    <div class=\"colab-df-container\">\n",
              "      <div>\n",
              "<style scoped>\n",
              "    .dataframe tbody tr th:only-of-type {\n",
              "        vertical-align: middle;\n",
              "    }\n",
              "\n",
              "    .dataframe tbody tr th {\n",
              "        vertical-align: top;\n",
              "    }\n",
              "\n",
              "    .dataframe thead th {\n",
              "        text-align: right;\n",
              "    }\n",
              "</style>\n",
              "<table border=\"1\" class=\"dataframe\">\n",
              "  <thead>\n",
              "    <tr style=\"text-align: right;\">\n",
              "      <th></th>\n",
              "      <th>lemma</th>\n",
              "      <th>next-lemma</th>\n",
              "      <th>next-next-lemma</th>\n",
              "      <th>next-next-pos</th>\n",
              "      <th>next-next-shape</th>\n",
              "      <th>next-next-word</th>\n",
              "      <th>next-pos</th>\n",
              "      <th>next-shape</th>\n",
              "      <th>next-word</th>\n",
              "      <th>pos</th>\n",
              "      <th>...</th>\n",
              "      <th>prev-prev-lemma</th>\n",
              "      <th>prev-prev-pos</th>\n",
              "      <th>prev-prev-shape</th>\n",
              "      <th>prev-prev-word</th>\n",
              "      <th>prev-shape</th>\n",
              "      <th>prev-word</th>\n",
              "      <th>sentence_idx</th>\n",
              "      <th>shape</th>\n",
              "      <th>word</th>\n",
              "      <th>tag</th>\n",
              "    </tr>\n",
              "  </thead>\n",
              "  <tbody>\n",
              "    <tr>\n",
              "      <th>0</th>\n",
              "      <td>thousand</td>\n",
              "      <td>of</td>\n",
              "      <td>demonstr</td>\n",
              "      <td>NNS</td>\n",
              "      <td>lowercase</td>\n",
              "      <td>demonstrators</td>\n",
              "      <td>IN</td>\n",
              "      <td>lowercase</td>\n",
              "      <td>of</td>\n",
              "      <td>NNS</td>\n",
              "      <td>...</td>\n",
              "      <td>__start2__</td>\n",
              "      <td>__START2__</td>\n",
              "      <td>wildcard</td>\n",
              "      <td>__START2__</td>\n",
              "      <td>wildcard</td>\n",
              "      <td>__START1__</td>\n",
              "      <td>1.0</td>\n",
              "      <td>capitalized</td>\n",
              "      <td>Thousands</td>\n",
              "      <td>O</td>\n",
              "    </tr>\n",
              "    <tr>\n",
              "      <th>1</th>\n",
              "      <td>of</td>\n",
              "      <td>demonstr</td>\n",
              "      <td>have</td>\n",
              "      <td>VBP</td>\n",
              "      <td>lowercase</td>\n",
              "      <td>have</td>\n",
              "      <td>NNS</td>\n",
              "      <td>lowercase</td>\n",
              "      <td>demonstrators</td>\n",
              "      <td>IN</td>\n",
              "      <td>...</td>\n",
              "      <td>__start1__</td>\n",
              "      <td>__START1__</td>\n",
              "      <td>wildcard</td>\n",
              "      <td>__START1__</td>\n",
              "      <td>capitalized</td>\n",
              "      <td>Thousands</td>\n",
              "      <td>1.0</td>\n",
              "      <td>lowercase</td>\n",
              "      <td>of</td>\n",
              "      <td>O</td>\n",
              "    </tr>\n",
              "    <tr>\n",
              "      <th>2</th>\n",
              "      <td>demonstr</td>\n",
              "      <td>have</td>\n",
              "      <td>march</td>\n",
              "      <td>VBN</td>\n",
              "      <td>lowercase</td>\n",
              "      <td>marched</td>\n",
              "      <td>VBP</td>\n",
              "      <td>lowercase</td>\n",
              "      <td>have</td>\n",
              "      <td>NNS</td>\n",
              "      <td>...</td>\n",
              "      <td>thousand</td>\n",
              "      <td>NNS</td>\n",
              "      <td>capitalized</td>\n",
              "      <td>Thousands</td>\n",
              "      <td>lowercase</td>\n",
              "      <td>of</td>\n",
              "      <td>1.0</td>\n",
              "      <td>lowercase</td>\n",
              "      <td>demonstrators</td>\n",
              "      <td>O</td>\n",
              "    </tr>\n",
              "    <tr>\n",
              "      <th>3</th>\n",
              "      <td>have</td>\n",
              "      <td>march</td>\n",
              "      <td>through</td>\n",
              "      <td>IN</td>\n",
              "      <td>lowercase</td>\n",
              "      <td>through</td>\n",
              "      <td>VBN</td>\n",
              "      <td>lowercase</td>\n",
              "      <td>marched</td>\n",
              "      <td>VBP</td>\n",
              "      <td>...</td>\n",
              "      <td>of</td>\n",
              "      <td>IN</td>\n",
              "      <td>lowercase</td>\n",
              "      <td>of</td>\n",
              "      <td>lowercase</td>\n",
              "      <td>demonstrators</td>\n",
              "      <td>1.0</td>\n",
              "      <td>lowercase</td>\n",
              "      <td>have</td>\n",
              "      <td>O</td>\n",
              "    </tr>\n",
              "    <tr>\n",
              "      <th>4</th>\n",
              "      <td>march</td>\n",
              "      <td>through</td>\n",
              "      <td>london</td>\n",
              "      <td>NNP</td>\n",
              "      <td>capitalized</td>\n",
              "      <td>London</td>\n",
              "      <td>IN</td>\n",
              "      <td>lowercase</td>\n",
              "      <td>through</td>\n",
              "      <td>VBN</td>\n",
              "      <td>...</td>\n",
              "      <td>demonstr</td>\n",
              "      <td>NNS</td>\n",
              "      <td>lowercase</td>\n",
              "      <td>demonstrators</td>\n",
              "      <td>lowercase</td>\n",
              "      <td>have</td>\n",
              "      <td>1.0</td>\n",
              "      <td>lowercase</td>\n",
              "      <td>marched</td>\n",
              "      <td>O</td>\n",
              "    </tr>\n",
              "  </tbody>\n",
              "</table>\n",
              "<p>5 rows × 24 columns</p>\n",
              "</div>\n",
              "      <button class=\"colab-df-convert\" onclick=\"convertToInteractive('df-11c248dc-1119-49b4-96dc-8ccbf96c238f')\"\n",
              "              title=\"Convert this dataframe to an interactive table.\"\n",
              "              style=\"display:none;\">\n",
              "        \n",
              "  <svg xmlns=\"http://www.w3.org/2000/svg\" height=\"24px\"viewBox=\"0 0 24 24\"\n",
              "       width=\"24px\">\n",
              "    <path d=\"M0 0h24v24H0V0z\" fill=\"none\"/>\n",
              "    <path d=\"M18.56 5.44l.94 2.06.94-2.06 2.06-.94-2.06-.94-.94-2.06-.94 2.06-2.06.94zm-11 1L8.5 8.5l.94-2.06 2.06-.94-2.06-.94L8.5 2.5l-.94 2.06-2.06.94zm10 10l.94 2.06.94-2.06 2.06-.94-2.06-.94-.94-2.06-.94 2.06-2.06.94z\"/><path d=\"M17.41 7.96l-1.37-1.37c-.4-.4-.92-.59-1.43-.59-.52 0-1.04.2-1.43.59L10.3 9.45l-7.72 7.72c-.78.78-.78 2.05 0 2.83L4 21.41c.39.39.9.59 1.41.59.51 0 1.02-.2 1.41-.59l7.78-7.78 2.81-2.81c.8-.78.8-2.07 0-2.86zM5.41 20L4 18.59l7.72-7.72 1.47 1.35L5.41 20z\"/>\n",
              "  </svg>\n",
              "      </button>\n",
              "      \n",
              "  <style>\n",
              "    .colab-df-container {\n",
              "      display:flex;\n",
              "      flex-wrap:wrap;\n",
              "      gap: 12px;\n",
              "    }\n",
              "\n",
              "    .colab-df-convert {\n",
              "      background-color: #E8F0FE;\n",
              "      border: none;\n",
              "      border-radius: 50%;\n",
              "      cursor: pointer;\n",
              "      display: none;\n",
              "      fill: #1967D2;\n",
              "      height: 32px;\n",
              "      padding: 0 0 0 0;\n",
              "      width: 32px;\n",
              "    }\n",
              "\n",
              "    .colab-df-convert:hover {\n",
              "      background-color: #E2EBFA;\n",
              "      box-shadow: 0px 1px 2px rgba(60, 64, 67, 0.3), 0px 1px 3px 1px rgba(60, 64, 67, 0.15);\n",
              "      fill: #174EA6;\n",
              "    }\n",
              "\n",
              "    [theme=dark] .colab-df-convert {\n",
              "      background-color: #3B4455;\n",
              "      fill: #D2E3FC;\n",
              "    }\n",
              "\n",
              "    [theme=dark] .colab-df-convert:hover {\n",
              "      background-color: #434B5C;\n",
              "      box-shadow: 0px 1px 3px 1px rgba(0, 0, 0, 0.15);\n",
              "      filter: drop-shadow(0px 1px 2px rgba(0, 0, 0, 0.3));\n",
              "      fill: #FFFFFF;\n",
              "    }\n",
              "  </style>\n",
              "\n",
              "      <script>\n",
              "        const buttonEl =\n",
              "          document.querySelector('#df-11c248dc-1119-49b4-96dc-8ccbf96c238f button.colab-df-convert');\n",
              "        buttonEl.style.display =\n",
              "          google.colab.kernel.accessAllowed ? 'block' : 'none';\n",
              "\n",
              "        async function convertToInteractive(key) {\n",
              "          const element = document.querySelector('#df-11c248dc-1119-49b4-96dc-8ccbf96c238f');\n",
              "          const dataTable =\n",
              "            await google.colab.kernel.invokeFunction('convertToInteractive',\n",
              "                                                     [key], {});\n",
              "          if (!dataTable) return;\n",
              "\n",
              "          const docLinkHtml = 'Like what you see? Visit the ' +\n",
              "            '<a target=\"_blank\" href=https://colab.research.google.com/notebooks/data_table.ipynb>data table notebook</a>'\n",
              "            + ' to learn more about interactive tables.';\n",
              "          element.innerHTML = '';\n",
              "          dataTable['output_type'] = 'display_data';\n",
              "          await google.colab.output.renderOutput(dataTable, element);\n",
              "          const docLink = document.createElement('div');\n",
              "          docLink.innerHTML = docLinkHtml;\n",
              "          element.appendChild(docLink);\n",
              "        }\n",
              "      </script>\n",
              "    </div>\n",
              "  </div>\n",
              "  "
            ]
          },
          "metadata": {},
          "execution_count": 6
        }
      ]
    },
    {
      "cell_type": "code",
      "source": [
        "# dataset\n",
        "def ner_dataset(path):\n",
        "  \"\"\"\n",
        "  Load Tagged NER dataset from path\n",
        "  :param path: path of the dataset\n",
        "  :return : Pandas DataFrame\n",
        "  \"\"\"\n",
        "  # CSV file has few bad lines, skip them\n",
        "  ner_dataset_df = pd.read_csv(path, encoding='latin1', on_bad_lines=\"skip\")\n",
        "  return ner_dataset_df"
      ],
      "metadata": {
        "id": "_ttvRFXB-jCW"
      },
      "execution_count": 7,
      "outputs": []
    },
    {
      "cell_type": "code",
      "source": [
        "# NER dataset\n",
        "ner_dataset_df = ner_dataset('ner_dataset.csv')\n",
        "# sample\n",
        "ner_dataset_df.head()"
      ],
      "metadata": {
        "colab": {
          "base_uri": "https://localhost:8080/",
          "height": 0
        },
        "id": "EvG9h5Zl-nnj",
        "outputId": "03826e35-20bd-43b5-94f3-43810a681ab9"
      },
      "execution_count": 8,
      "outputs": [
        {
          "output_type": "execute_result",
          "data": {
            "text/plain": [
              "    Sentence #           Word  POS Tag\n",
              "0  Sentence: 1      Thousands  NNS   O\n",
              "1          NaN             of   IN   O\n",
              "2          NaN  demonstrators  NNS   O\n",
              "3          NaN           have  VBP   O\n",
              "4          NaN        marched  VBN   O"
            ],
            "text/html": [
              "\n",
              "  <div id=\"df-6d3d1198-e0f2-4046-85f8-ca8f6912e129\">\n",
              "    <div class=\"colab-df-container\">\n",
              "      <div>\n",
              "<style scoped>\n",
              "    .dataframe tbody tr th:only-of-type {\n",
              "        vertical-align: middle;\n",
              "    }\n",
              "\n",
              "    .dataframe tbody tr th {\n",
              "        vertical-align: top;\n",
              "    }\n",
              "\n",
              "    .dataframe thead th {\n",
              "        text-align: right;\n",
              "    }\n",
              "</style>\n",
              "<table border=\"1\" class=\"dataframe\">\n",
              "  <thead>\n",
              "    <tr style=\"text-align: right;\">\n",
              "      <th></th>\n",
              "      <th>Sentence #</th>\n",
              "      <th>Word</th>\n",
              "      <th>POS</th>\n",
              "      <th>Tag</th>\n",
              "    </tr>\n",
              "  </thead>\n",
              "  <tbody>\n",
              "    <tr>\n",
              "      <th>0</th>\n",
              "      <td>Sentence: 1</td>\n",
              "      <td>Thousands</td>\n",
              "      <td>NNS</td>\n",
              "      <td>O</td>\n",
              "    </tr>\n",
              "    <tr>\n",
              "      <th>1</th>\n",
              "      <td>NaN</td>\n",
              "      <td>of</td>\n",
              "      <td>IN</td>\n",
              "      <td>O</td>\n",
              "    </tr>\n",
              "    <tr>\n",
              "      <th>2</th>\n",
              "      <td>NaN</td>\n",
              "      <td>demonstrators</td>\n",
              "      <td>NNS</td>\n",
              "      <td>O</td>\n",
              "    </tr>\n",
              "    <tr>\n",
              "      <th>3</th>\n",
              "      <td>NaN</td>\n",
              "      <td>have</td>\n",
              "      <td>VBP</td>\n",
              "      <td>O</td>\n",
              "    </tr>\n",
              "    <tr>\n",
              "      <th>4</th>\n",
              "      <td>NaN</td>\n",
              "      <td>marched</td>\n",
              "      <td>VBN</td>\n",
              "      <td>O</td>\n",
              "    </tr>\n",
              "  </tbody>\n",
              "</table>\n",
              "</div>\n",
              "      <button class=\"colab-df-convert\" onclick=\"convertToInteractive('df-6d3d1198-e0f2-4046-85f8-ca8f6912e129')\"\n",
              "              title=\"Convert this dataframe to an interactive table.\"\n",
              "              style=\"display:none;\">\n",
              "        \n",
              "  <svg xmlns=\"http://www.w3.org/2000/svg\" height=\"24px\"viewBox=\"0 0 24 24\"\n",
              "       width=\"24px\">\n",
              "    <path d=\"M0 0h24v24H0V0z\" fill=\"none\"/>\n",
              "    <path d=\"M18.56 5.44l.94 2.06.94-2.06 2.06-.94-2.06-.94-.94-2.06-.94 2.06-2.06.94zm-11 1L8.5 8.5l.94-2.06 2.06-.94-2.06-.94L8.5 2.5l-.94 2.06-2.06.94zm10 10l.94 2.06.94-2.06 2.06-.94-2.06-.94-.94-2.06-.94 2.06-2.06.94z\"/><path d=\"M17.41 7.96l-1.37-1.37c-.4-.4-.92-.59-1.43-.59-.52 0-1.04.2-1.43.59L10.3 9.45l-7.72 7.72c-.78.78-.78 2.05 0 2.83L4 21.41c.39.39.9.59 1.41.59.51 0 1.02-.2 1.41-.59l7.78-7.78 2.81-2.81c.8-.78.8-2.07 0-2.86zM5.41 20L4 18.59l7.72-7.72 1.47 1.35L5.41 20z\"/>\n",
              "  </svg>\n",
              "      </button>\n",
              "      \n",
              "  <style>\n",
              "    .colab-df-container {\n",
              "      display:flex;\n",
              "      flex-wrap:wrap;\n",
              "      gap: 12px;\n",
              "    }\n",
              "\n",
              "    .colab-df-convert {\n",
              "      background-color: #E8F0FE;\n",
              "      border: none;\n",
              "      border-radius: 50%;\n",
              "      cursor: pointer;\n",
              "      display: none;\n",
              "      fill: #1967D2;\n",
              "      height: 32px;\n",
              "      padding: 0 0 0 0;\n",
              "      width: 32px;\n",
              "    }\n",
              "\n",
              "    .colab-df-convert:hover {\n",
              "      background-color: #E2EBFA;\n",
              "      box-shadow: 0px 1px 2px rgba(60, 64, 67, 0.3), 0px 1px 3px 1px rgba(60, 64, 67, 0.15);\n",
              "      fill: #174EA6;\n",
              "    }\n",
              "\n",
              "    [theme=dark] .colab-df-convert {\n",
              "      background-color: #3B4455;\n",
              "      fill: #D2E3FC;\n",
              "    }\n",
              "\n",
              "    [theme=dark] .colab-df-convert:hover {\n",
              "      background-color: #434B5C;\n",
              "      box-shadow: 0px 1px 3px 1px rgba(0, 0, 0, 0.15);\n",
              "      filter: drop-shadow(0px 1px 2px rgba(0, 0, 0, 0.3));\n",
              "      fill: #FFFFFF;\n",
              "    }\n",
              "  </style>\n",
              "\n",
              "      <script>\n",
              "        const buttonEl =\n",
              "          document.querySelector('#df-6d3d1198-e0f2-4046-85f8-ca8f6912e129 button.colab-df-convert');\n",
              "        buttonEl.style.display =\n",
              "          google.colab.kernel.accessAllowed ? 'block' : 'none';\n",
              "\n",
              "        async function convertToInteractive(key) {\n",
              "          const element = document.querySelector('#df-6d3d1198-e0f2-4046-85f8-ca8f6912e129');\n",
              "          const dataTable =\n",
              "            await google.colab.kernel.invokeFunction('convertToInteractive',\n",
              "                                                     [key], {});\n",
              "          if (!dataTable) return;\n",
              "\n",
              "          const docLinkHtml = 'Like what you see? Visit the ' +\n",
              "            '<a target=\"_blank\" href=https://colab.research.google.com/notebooks/data_table.ipynb>data table notebook</a>'\n",
              "            + ' to learn more about interactive tables.';\n",
              "          element.innerHTML = '';\n",
              "          dataTable['output_type'] = 'display_data';\n",
              "          await google.colab.output.renderOutput(dataTable, element);\n",
              "          const docLink = document.createElement('div');\n",
              "          docLink.innerHTML = docLinkHtml;\n",
              "          element.appendChild(docLink);\n",
              "        }\n",
              "      </script>\n",
              "    </div>\n",
              "  </div>\n",
              "  "
            ]
          },
          "metadata": {},
          "execution_count": 8
        }
      ]
    },
    {
      "cell_type": "code",
      "source": [
        "# check few more records\n",
        "ner_dataset_df.head(50)"
      ],
      "metadata": {
        "colab": {
          "base_uri": "https://localhost:8080/",
          "height": 0
        },
        "id": "758UrTGB2VYb",
        "outputId": "33acbc90-6d0d-4470-965c-9dd9334c9429"
      },
      "execution_count": 9,
      "outputs": [
        {
          "output_type": "execute_result",
          "data": {
            "text/plain": [
              "     Sentence #           Word  POS    Tag\n",
              "0   Sentence: 1      Thousands  NNS      O\n",
              "1           NaN             of   IN      O\n",
              "2           NaN  demonstrators  NNS      O\n",
              "3           NaN           have  VBP      O\n",
              "4           NaN        marched  VBN      O\n",
              "5           NaN        through   IN      O\n",
              "6           NaN         London  NNP  B-geo\n",
              "7           NaN             to   TO      O\n",
              "8           NaN        protest   VB      O\n",
              "9           NaN            the   DT      O\n",
              "10          NaN            war   NN      O\n",
              "11          NaN             in   IN      O\n",
              "12          NaN           Iraq  NNP  B-geo\n",
              "13          NaN            and   CC      O\n",
              "14          NaN         demand   VB      O\n",
              "15          NaN            the   DT      O\n",
              "16          NaN     withdrawal   NN      O\n",
              "17          NaN             of   IN      O\n",
              "18          NaN        British   JJ  B-gpe\n",
              "19          NaN         troops  NNS      O\n",
              "20          NaN           from   IN      O\n",
              "21          NaN           that   DT      O\n",
              "22          NaN        country   NN      O\n",
              "23          NaN              .    .      O\n",
              "24  Sentence: 2       Families  NNS      O\n",
              "25          NaN             of   IN      O\n",
              "26          NaN       soldiers  NNS      O\n",
              "27          NaN         killed  VBN      O\n",
              "28          NaN             in   IN      O\n",
              "29          NaN            the   DT      O\n",
              "30          NaN       conflict   NN      O\n",
              "31          NaN         joined  VBD      O\n",
              "32          NaN            the   DT      O\n",
              "33          NaN     protesters  NNS      O\n",
              "34          NaN            who   WP      O\n",
              "35          NaN        carried  VBD      O\n",
              "36          NaN        banners  NNS      O\n",
              "37          NaN           with   IN      O\n",
              "38          NaN           such   JJ      O\n",
              "39          NaN        slogans  NNS      O\n",
              "40          NaN             as   IN      O\n",
              "41          NaN              \"   ``      O\n",
              "42          NaN           Bush  NNP  B-per\n",
              "43          NaN         Number   NN      O\n",
              "44          NaN            One   CD      O\n",
              "45          NaN      Terrorist   NN      O\n",
              "46          NaN              \"   ``      O\n",
              "47          NaN            and   CC      O\n",
              "48          NaN              \"   ``      O\n",
              "49          NaN           Stop   VB      O"
            ],
            "text/html": [
              "\n",
              "  <div id=\"df-af022ff0-a3bc-428b-bc67-8e3d70429b7d\">\n",
              "    <div class=\"colab-df-container\">\n",
              "      <div>\n",
              "<style scoped>\n",
              "    .dataframe tbody tr th:only-of-type {\n",
              "        vertical-align: middle;\n",
              "    }\n",
              "\n",
              "    .dataframe tbody tr th {\n",
              "        vertical-align: top;\n",
              "    }\n",
              "\n",
              "    .dataframe thead th {\n",
              "        text-align: right;\n",
              "    }\n",
              "</style>\n",
              "<table border=\"1\" class=\"dataframe\">\n",
              "  <thead>\n",
              "    <tr style=\"text-align: right;\">\n",
              "      <th></th>\n",
              "      <th>Sentence #</th>\n",
              "      <th>Word</th>\n",
              "      <th>POS</th>\n",
              "      <th>Tag</th>\n",
              "    </tr>\n",
              "  </thead>\n",
              "  <tbody>\n",
              "    <tr>\n",
              "      <th>0</th>\n",
              "      <td>Sentence: 1</td>\n",
              "      <td>Thousands</td>\n",
              "      <td>NNS</td>\n",
              "      <td>O</td>\n",
              "    </tr>\n",
              "    <tr>\n",
              "      <th>1</th>\n",
              "      <td>NaN</td>\n",
              "      <td>of</td>\n",
              "      <td>IN</td>\n",
              "      <td>O</td>\n",
              "    </tr>\n",
              "    <tr>\n",
              "      <th>2</th>\n",
              "      <td>NaN</td>\n",
              "      <td>demonstrators</td>\n",
              "      <td>NNS</td>\n",
              "      <td>O</td>\n",
              "    </tr>\n",
              "    <tr>\n",
              "      <th>3</th>\n",
              "      <td>NaN</td>\n",
              "      <td>have</td>\n",
              "      <td>VBP</td>\n",
              "      <td>O</td>\n",
              "    </tr>\n",
              "    <tr>\n",
              "      <th>4</th>\n",
              "      <td>NaN</td>\n",
              "      <td>marched</td>\n",
              "      <td>VBN</td>\n",
              "      <td>O</td>\n",
              "    </tr>\n",
              "    <tr>\n",
              "      <th>5</th>\n",
              "      <td>NaN</td>\n",
              "      <td>through</td>\n",
              "      <td>IN</td>\n",
              "      <td>O</td>\n",
              "    </tr>\n",
              "    <tr>\n",
              "      <th>6</th>\n",
              "      <td>NaN</td>\n",
              "      <td>London</td>\n",
              "      <td>NNP</td>\n",
              "      <td>B-geo</td>\n",
              "    </tr>\n",
              "    <tr>\n",
              "      <th>7</th>\n",
              "      <td>NaN</td>\n",
              "      <td>to</td>\n",
              "      <td>TO</td>\n",
              "      <td>O</td>\n",
              "    </tr>\n",
              "    <tr>\n",
              "      <th>8</th>\n",
              "      <td>NaN</td>\n",
              "      <td>protest</td>\n",
              "      <td>VB</td>\n",
              "      <td>O</td>\n",
              "    </tr>\n",
              "    <tr>\n",
              "      <th>9</th>\n",
              "      <td>NaN</td>\n",
              "      <td>the</td>\n",
              "      <td>DT</td>\n",
              "      <td>O</td>\n",
              "    </tr>\n",
              "    <tr>\n",
              "      <th>10</th>\n",
              "      <td>NaN</td>\n",
              "      <td>war</td>\n",
              "      <td>NN</td>\n",
              "      <td>O</td>\n",
              "    </tr>\n",
              "    <tr>\n",
              "      <th>11</th>\n",
              "      <td>NaN</td>\n",
              "      <td>in</td>\n",
              "      <td>IN</td>\n",
              "      <td>O</td>\n",
              "    </tr>\n",
              "    <tr>\n",
              "      <th>12</th>\n",
              "      <td>NaN</td>\n",
              "      <td>Iraq</td>\n",
              "      <td>NNP</td>\n",
              "      <td>B-geo</td>\n",
              "    </tr>\n",
              "    <tr>\n",
              "      <th>13</th>\n",
              "      <td>NaN</td>\n",
              "      <td>and</td>\n",
              "      <td>CC</td>\n",
              "      <td>O</td>\n",
              "    </tr>\n",
              "    <tr>\n",
              "      <th>14</th>\n",
              "      <td>NaN</td>\n",
              "      <td>demand</td>\n",
              "      <td>VB</td>\n",
              "      <td>O</td>\n",
              "    </tr>\n",
              "    <tr>\n",
              "      <th>15</th>\n",
              "      <td>NaN</td>\n",
              "      <td>the</td>\n",
              "      <td>DT</td>\n",
              "      <td>O</td>\n",
              "    </tr>\n",
              "    <tr>\n",
              "      <th>16</th>\n",
              "      <td>NaN</td>\n",
              "      <td>withdrawal</td>\n",
              "      <td>NN</td>\n",
              "      <td>O</td>\n",
              "    </tr>\n",
              "    <tr>\n",
              "      <th>17</th>\n",
              "      <td>NaN</td>\n",
              "      <td>of</td>\n",
              "      <td>IN</td>\n",
              "      <td>O</td>\n",
              "    </tr>\n",
              "    <tr>\n",
              "      <th>18</th>\n",
              "      <td>NaN</td>\n",
              "      <td>British</td>\n",
              "      <td>JJ</td>\n",
              "      <td>B-gpe</td>\n",
              "    </tr>\n",
              "    <tr>\n",
              "      <th>19</th>\n",
              "      <td>NaN</td>\n",
              "      <td>troops</td>\n",
              "      <td>NNS</td>\n",
              "      <td>O</td>\n",
              "    </tr>\n",
              "    <tr>\n",
              "      <th>20</th>\n",
              "      <td>NaN</td>\n",
              "      <td>from</td>\n",
              "      <td>IN</td>\n",
              "      <td>O</td>\n",
              "    </tr>\n",
              "    <tr>\n",
              "      <th>21</th>\n",
              "      <td>NaN</td>\n",
              "      <td>that</td>\n",
              "      <td>DT</td>\n",
              "      <td>O</td>\n",
              "    </tr>\n",
              "    <tr>\n",
              "      <th>22</th>\n",
              "      <td>NaN</td>\n",
              "      <td>country</td>\n",
              "      <td>NN</td>\n",
              "      <td>O</td>\n",
              "    </tr>\n",
              "    <tr>\n",
              "      <th>23</th>\n",
              "      <td>NaN</td>\n",
              "      <td>.</td>\n",
              "      <td>.</td>\n",
              "      <td>O</td>\n",
              "    </tr>\n",
              "    <tr>\n",
              "      <th>24</th>\n",
              "      <td>Sentence: 2</td>\n",
              "      <td>Families</td>\n",
              "      <td>NNS</td>\n",
              "      <td>O</td>\n",
              "    </tr>\n",
              "    <tr>\n",
              "      <th>25</th>\n",
              "      <td>NaN</td>\n",
              "      <td>of</td>\n",
              "      <td>IN</td>\n",
              "      <td>O</td>\n",
              "    </tr>\n",
              "    <tr>\n",
              "      <th>26</th>\n",
              "      <td>NaN</td>\n",
              "      <td>soldiers</td>\n",
              "      <td>NNS</td>\n",
              "      <td>O</td>\n",
              "    </tr>\n",
              "    <tr>\n",
              "      <th>27</th>\n",
              "      <td>NaN</td>\n",
              "      <td>killed</td>\n",
              "      <td>VBN</td>\n",
              "      <td>O</td>\n",
              "    </tr>\n",
              "    <tr>\n",
              "      <th>28</th>\n",
              "      <td>NaN</td>\n",
              "      <td>in</td>\n",
              "      <td>IN</td>\n",
              "      <td>O</td>\n",
              "    </tr>\n",
              "    <tr>\n",
              "      <th>29</th>\n",
              "      <td>NaN</td>\n",
              "      <td>the</td>\n",
              "      <td>DT</td>\n",
              "      <td>O</td>\n",
              "    </tr>\n",
              "    <tr>\n",
              "      <th>30</th>\n",
              "      <td>NaN</td>\n",
              "      <td>conflict</td>\n",
              "      <td>NN</td>\n",
              "      <td>O</td>\n",
              "    </tr>\n",
              "    <tr>\n",
              "      <th>31</th>\n",
              "      <td>NaN</td>\n",
              "      <td>joined</td>\n",
              "      <td>VBD</td>\n",
              "      <td>O</td>\n",
              "    </tr>\n",
              "    <tr>\n",
              "      <th>32</th>\n",
              "      <td>NaN</td>\n",
              "      <td>the</td>\n",
              "      <td>DT</td>\n",
              "      <td>O</td>\n",
              "    </tr>\n",
              "    <tr>\n",
              "      <th>33</th>\n",
              "      <td>NaN</td>\n",
              "      <td>protesters</td>\n",
              "      <td>NNS</td>\n",
              "      <td>O</td>\n",
              "    </tr>\n",
              "    <tr>\n",
              "      <th>34</th>\n",
              "      <td>NaN</td>\n",
              "      <td>who</td>\n",
              "      <td>WP</td>\n",
              "      <td>O</td>\n",
              "    </tr>\n",
              "    <tr>\n",
              "      <th>35</th>\n",
              "      <td>NaN</td>\n",
              "      <td>carried</td>\n",
              "      <td>VBD</td>\n",
              "      <td>O</td>\n",
              "    </tr>\n",
              "    <tr>\n",
              "      <th>36</th>\n",
              "      <td>NaN</td>\n",
              "      <td>banners</td>\n",
              "      <td>NNS</td>\n",
              "      <td>O</td>\n",
              "    </tr>\n",
              "    <tr>\n",
              "      <th>37</th>\n",
              "      <td>NaN</td>\n",
              "      <td>with</td>\n",
              "      <td>IN</td>\n",
              "      <td>O</td>\n",
              "    </tr>\n",
              "    <tr>\n",
              "      <th>38</th>\n",
              "      <td>NaN</td>\n",
              "      <td>such</td>\n",
              "      <td>JJ</td>\n",
              "      <td>O</td>\n",
              "    </tr>\n",
              "    <tr>\n",
              "      <th>39</th>\n",
              "      <td>NaN</td>\n",
              "      <td>slogans</td>\n",
              "      <td>NNS</td>\n",
              "      <td>O</td>\n",
              "    </tr>\n",
              "    <tr>\n",
              "      <th>40</th>\n",
              "      <td>NaN</td>\n",
              "      <td>as</td>\n",
              "      <td>IN</td>\n",
              "      <td>O</td>\n",
              "    </tr>\n",
              "    <tr>\n",
              "      <th>41</th>\n",
              "      <td>NaN</td>\n",
              "      <td>\"</td>\n",
              "      <td>``</td>\n",
              "      <td>O</td>\n",
              "    </tr>\n",
              "    <tr>\n",
              "      <th>42</th>\n",
              "      <td>NaN</td>\n",
              "      <td>Bush</td>\n",
              "      <td>NNP</td>\n",
              "      <td>B-per</td>\n",
              "    </tr>\n",
              "    <tr>\n",
              "      <th>43</th>\n",
              "      <td>NaN</td>\n",
              "      <td>Number</td>\n",
              "      <td>NN</td>\n",
              "      <td>O</td>\n",
              "    </tr>\n",
              "    <tr>\n",
              "      <th>44</th>\n",
              "      <td>NaN</td>\n",
              "      <td>One</td>\n",
              "      <td>CD</td>\n",
              "      <td>O</td>\n",
              "    </tr>\n",
              "    <tr>\n",
              "      <th>45</th>\n",
              "      <td>NaN</td>\n",
              "      <td>Terrorist</td>\n",
              "      <td>NN</td>\n",
              "      <td>O</td>\n",
              "    </tr>\n",
              "    <tr>\n",
              "      <th>46</th>\n",
              "      <td>NaN</td>\n",
              "      <td>\"</td>\n",
              "      <td>``</td>\n",
              "      <td>O</td>\n",
              "    </tr>\n",
              "    <tr>\n",
              "      <th>47</th>\n",
              "      <td>NaN</td>\n",
              "      <td>and</td>\n",
              "      <td>CC</td>\n",
              "      <td>O</td>\n",
              "    </tr>\n",
              "    <tr>\n",
              "      <th>48</th>\n",
              "      <td>NaN</td>\n",
              "      <td>\"</td>\n",
              "      <td>``</td>\n",
              "      <td>O</td>\n",
              "    </tr>\n",
              "    <tr>\n",
              "      <th>49</th>\n",
              "      <td>NaN</td>\n",
              "      <td>Stop</td>\n",
              "      <td>VB</td>\n",
              "      <td>O</td>\n",
              "    </tr>\n",
              "  </tbody>\n",
              "</table>\n",
              "</div>\n",
              "      <button class=\"colab-df-convert\" onclick=\"convertToInteractive('df-af022ff0-a3bc-428b-bc67-8e3d70429b7d')\"\n",
              "              title=\"Convert this dataframe to an interactive table.\"\n",
              "              style=\"display:none;\">\n",
              "        \n",
              "  <svg xmlns=\"http://www.w3.org/2000/svg\" height=\"24px\"viewBox=\"0 0 24 24\"\n",
              "       width=\"24px\">\n",
              "    <path d=\"M0 0h24v24H0V0z\" fill=\"none\"/>\n",
              "    <path d=\"M18.56 5.44l.94 2.06.94-2.06 2.06-.94-2.06-.94-.94-2.06-.94 2.06-2.06.94zm-11 1L8.5 8.5l.94-2.06 2.06-.94-2.06-.94L8.5 2.5l-.94 2.06-2.06.94zm10 10l.94 2.06.94-2.06 2.06-.94-2.06-.94-.94-2.06-.94 2.06-2.06.94z\"/><path d=\"M17.41 7.96l-1.37-1.37c-.4-.4-.92-.59-1.43-.59-.52 0-1.04.2-1.43.59L10.3 9.45l-7.72 7.72c-.78.78-.78 2.05 0 2.83L4 21.41c.39.39.9.59 1.41.59.51 0 1.02-.2 1.41-.59l7.78-7.78 2.81-2.81c.8-.78.8-2.07 0-2.86zM5.41 20L4 18.59l7.72-7.72 1.47 1.35L5.41 20z\"/>\n",
              "  </svg>\n",
              "      </button>\n",
              "      \n",
              "  <style>\n",
              "    .colab-df-container {\n",
              "      display:flex;\n",
              "      flex-wrap:wrap;\n",
              "      gap: 12px;\n",
              "    }\n",
              "\n",
              "    .colab-df-convert {\n",
              "      background-color: #E8F0FE;\n",
              "      border: none;\n",
              "      border-radius: 50%;\n",
              "      cursor: pointer;\n",
              "      display: none;\n",
              "      fill: #1967D2;\n",
              "      height: 32px;\n",
              "      padding: 0 0 0 0;\n",
              "      width: 32px;\n",
              "    }\n",
              "\n",
              "    .colab-df-convert:hover {\n",
              "      background-color: #E2EBFA;\n",
              "      box-shadow: 0px 1px 2px rgba(60, 64, 67, 0.3), 0px 1px 3px 1px rgba(60, 64, 67, 0.15);\n",
              "      fill: #174EA6;\n",
              "    }\n",
              "\n",
              "    [theme=dark] .colab-df-convert {\n",
              "      background-color: #3B4455;\n",
              "      fill: #D2E3FC;\n",
              "    }\n",
              "\n",
              "    [theme=dark] .colab-df-convert:hover {\n",
              "      background-color: #434B5C;\n",
              "      box-shadow: 0px 1px 3px 1px rgba(0, 0, 0, 0.15);\n",
              "      filter: drop-shadow(0px 1px 2px rgba(0, 0, 0, 0.3));\n",
              "      fill: #FFFFFF;\n",
              "    }\n",
              "  </style>\n",
              "\n",
              "      <script>\n",
              "        const buttonEl =\n",
              "          document.querySelector('#df-af022ff0-a3bc-428b-bc67-8e3d70429b7d button.colab-df-convert');\n",
              "        buttonEl.style.display =\n",
              "          google.colab.kernel.accessAllowed ? 'block' : 'none';\n",
              "\n",
              "        async function convertToInteractive(key) {\n",
              "          const element = document.querySelector('#df-af022ff0-a3bc-428b-bc67-8e3d70429b7d');\n",
              "          const dataTable =\n",
              "            await google.colab.kernel.invokeFunction('convertToInteractive',\n",
              "                                                     [key], {});\n",
              "          if (!dataTable) return;\n",
              "\n",
              "          const docLinkHtml = 'Like what you see? Visit the ' +\n",
              "            '<a target=\"_blank\" href=https://colab.research.google.com/notebooks/data_table.ipynb>data table notebook</a>'\n",
              "            + ' to learn more about interactive tables.';\n",
              "          element.innerHTML = '';\n",
              "          dataTable['output_type'] = 'display_data';\n",
              "          await google.colab.output.renderOutput(dataTable, element);\n",
              "          const docLink = document.createElement('div');\n",
              "          docLink.innerHTML = docLinkHtml;\n",
              "          element.appendChild(docLink);\n",
              "        }\n",
              "      </script>\n",
              "    </div>\n",
              "  </div>\n",
              "  "
            ]
          },
          "metadata": {},
          "execution_count": 9
        }
      ]
    },
    {
      "cell_type": "markdown",
      "source": [
        "## Prepare Sentences and Tags"
      ],
      "metadata": {
        "id": "fiLBtnMH2E0l"
      }
    },
    {
      "cell_type": "code",
      "source": [
        "def get_sentences_and_nes(df):\n",
        "  \"\"\"\n",
        "  Prepare List of sentences and their named entities\n",
        "  :param df: NER dataset DataFrame\n",
        "  :return : tuple of list of sentences , list of list of named entities\n",
        "  \"\"\"\n",
        "  df = df.copy(deep=True)\n",
        "  # fill Sentence Number\n",
        "  df['Sentence #'].fillna(method=\"ffill\", inplace=True)\n",
        "  # Group Words by Sentence Number to form Sentence\n",
        "  grouped_df = df.groupby(by=['Sentence #'], as_index=True).apply(lambda x: pd.Series({'Sentence': \" \".join(x['Word'].tolist()), 'Tags':x['Tag'].tolist()}))\n",
        "  sentences = grouped_df['Sentence'].tolist()\n",
        "  sentences_tags = grouped_df['Tags'].tolist()\n",
        "  return sentences, sentences_tags\n",
        "  \n"
      ],
      "metadata": {
        "id": "aHIIlSh12nby"
      },
      "execution_count": 10,
      "outputs": []
    },
    {
      "cell_type": "code",
      "source": [
        "# Get sentences and tags\n",
        "sentences, sentences_tags = get_sentences_and_nes(df = ner_dataset_df)\n",
        "print(f\"Total sentences: {len(sentences)}\")\n",
        "print(f\"Total List of Tags: {len(sentences_tags)}\")"
      ],
      "metadata": {
        "colab": {
          "base_uri": "https://localhost:8080/"
        },
        "id": "9jONL-au4I4t",
        "outputId": "4e0f1d0a-7a88-4dd8-a0d0-ad6433715219"
      },
      "execution_count": 11,
      "outputs": [
        {
          "output_type": "stream",
          "name": "stdout",
          "text": [
            "Total sentences: 47959\n",
            "Total List of Tags: 47959\n"
          ]
        }
      ]
    },
    {
      "cell_type": "markdown",
      "source": [
        "## Visualizations"
      ],
      "metadata": {
        "id": "zPSVGchG7xoU"
      }
    },
    {
      "cell_type": "code",
      "source": [
        "print(\"Few sentences and their tags\")\n",
        "for i in range(5):\n",
        "  print(\"-\"*120)\n",
        "  print(sentences[i])\n",
        "  print(sentences_tags[i])"
      ],
      "metadata": {
        "colab": {
          "base_uri": "https://localhost:8080/"
        },
        "id": "zTrHsf6G7Oly",
        "outputId": "6f5f4cc6-77cc-417b-93ac-6bc6e66d1ea4"
      },
      "execution_count": 12,
      "outputs": [
        {
          "output_type": "stream",
          "name": "stdout",
          "text": [
            "Few sentences and their tags\n",
            "------------------------------------------------------------------------------------------------------------------------\n",
            "Thousands of demonstrators have marched through London to protest the war in Iraq and demand the withdrawal of British troops from that country .\n",
            "['O', 'O', 'O', 'O', 'O', 'O', 'B-geo', 'O', 'O', 'O', 'O', 'O', 'B-geo', 'O', 'O', 'O', 'O', 'O', 'B-gpe', 'O', 'O', 'O', 'O', 'O']\n",
            "------------------------------------------------------------------------------------------------------------------------\n",
            "Iranian officials say they expect to get access to sealed sensitive parts of the plant Wednesday , after an IAEA surveillance system begins functioning .\n",
            "['B-gpe', 'O', 'O', 'O', 'O', 'O', 'O', 'O', 'O', 'O', 'O', 'O', 'O', 'O', 'O', 'B-tim', 'O', 'O', 'O', 'B-org', 'O', 'O', 'O', 'O', 'O']\n",
            "------------------------------------------------------------------------------------------------------------------------\n",
            "Helicopter gunships Saturday pounded militant hideouts in the Orakzai tribal region , where many Taliban militants are believed to have fled to avoid an earlier military offensive in nearby South Waziristan .\n",
            "['O', 'O', 'B-tim', 'O', 'O', 'O', 'O', 'O', 'B-geo', 'O', 'O', 'O', 'O', 'O', 'B-org', 'O', 'O', 'O', 'O', 'O', 'O', 'O', 'O', 'O', 'O', 'O', 'O', 'O', 'O', 'B-geo', 'I-geo', 'O']\n",
            "------------------------------------------------------------------------------------------------------------------------\n",
            "They left after a tense hour-long standoff with riot police .\n",
            "['O', 'O', 'O', 'O', 'O', 'O', 'O', 'O', 'O', 'O', 'O']\n",
            "------------------------------------------------------------------------------------------------------------------------\n",
            "U.N. relief coordinator Jan Egeland said Sunday , U.S. , Indonesian and Australian military helicopters are ferrying out food and supplies to remote areas of western Aceh province that ground crews can not reach .\n",
            "['B-geo', 'O', 'O', 'B-per', 'I-per', 'O', 'B-tim', 'O', 'B-geo', 'O', 'B-gpe', 'O', 'B-gpe', 'O', 'O', 'O', 'O', 'O', 'O', 'O', 'O', 'O', 'O', 'O', 'O', 'O', 'B-geo', 'O', 'O', 'O', 'O', 'O', 'O', 'O', 'O']\n"
          ]
        }
      ]
    },
    {
      "cell_type": "code",
      "source": [
        "def word_count(sentences):\n",
        "  \"\"\"\n",
        "  Unique lower case words count\n",
        "  :param setences: List of sentences\n",
        "  return : Count\n",
        "  \"\"\"\n",
        "  all_words = {word.lower() for sentence in sentences for word in sentence.split(\" \")}\n",
        "  return len(all_words)\n",
        "print(f\"Total words: {word_count(sentences)}\")\n"
      ],
      "metadata": {
        "colab": {
          "base_uri": "https://localhost:8080/"
        },
        "id": "f5aSUwF_8ivJ",
        "outputId": "6d4427d7-7866-4ee4-8ef2-d8f2bed6a741"
      },
      "execution_count": 13,
      "outputs": [
        {
          "output_type": "stream",
          "name": "stdout",
          "text": [
            "Total words: 31817\n"
          ]
        }
      ]
    },
    {
      "cell_type": "code",
      "source": [
        "all_tags = {tag for sentence_tags in sentences_tags for tag in sentence_tags}\n",
        "print(f\"Total tags: {len(all_tags)}\")"
      ],
      "metadata": {
        "colab": {
          "base_uri": "https://localhost:8080/"
        },
        "id": "E-qxtyOi9IX8",
        "outputId": "3653292b-9a62-4587-e2c6-4699727f0999"
      },
      "execution_count": 14,
      "outputs": [
        {
          "output_type": "stream",
          "name": "stdout",
          "text": [
            "Total tags: 17\n"
          ]
        }
      ]
    },
    {
      "cell_type": "code",
      "source": [
        "print(f\"All tags: {all_tags}\")"
      ],
      "metadata": {
        "colab": {
          "base_uri": "https://localhost:8080/"
        },
        "id": "f36Ti0fi9Xs7",
        "outputId": "22e713b6-97b5-44ea-b6d8-defd12a76c97"
      },
      "execution_count": 15,
      "outputs": [
        {
          "output_type": "stream",
          "name": "stdout",
          "text": [
            "All tags: {'B-art', 'I-tim', 'I-geo', 'B-nat', 'B-eve', 'B-geo', 'I-art', 'B-gpe', 'I-per', 'I-eve', 'I-org', 'I-gpe', 'O', 'B-per', 'B-tim', 'B-org', 'I-nat'}\n"
          ]
        }
      ]
    },
    {
      "cell_type": "code",
      "source": [
        "#  plot sentence word lengths \n",
        "sentences_lens = [len(sentence.split(\" \")) for sentence in sentences]\n",
        "fig , ax  = plt.subplots(nrows=1, ncols=1, figsize=(12,6))\n",
        "ax.hist(sentences_lens, color='green', log=True, label='Sentence Word Lengths')\n",
        "ax.set_xlabel('Sentence Word Length')\n",
        "ax.set_ylabel('Frequency')\n",
        "ax.set_title(\"Sentence Word Length Histogram\")\n",
        "ax.legend()"
      ],
      "metadata": {
        "colab": {
          "base_uri": "https://localhost:8080/",
          "height": 0
        },
        "id": "U_JQltjSMVwE",
        "outputId": "3075546b-650d-4eac-cc3c-47b0a20b5362"
      },
      "execution_count": 16,
      "outputs": [
        {
          "output_type": "execute_result",
          "data": {
            "text/plain": [
              "<matplotlib.legend.Legend at 0x7f95dc385fd0>"
            ]
          },
          "metadata": {},
          "execution_count": 16
        },
        {
          "output_type": "display_data",
          "data": {
            "text/plain": [
              "<Figure size 864x432 with 1 Axes>"
            ],
            "image/png": "[encoded data removed]"
          },
          "metadata": {
            "needs_background": "light"
          }
        }
      ]
    },
    {
      "cell_type": "code",
      "source": [
        "# Maximum Sentence Length\n",
        "MAX_SENTENCE_LENGTH = max(sentences_lens)\n",
        "print(f\"Max Sentence Length: {MAX_SENTENCE_LENGTH}\")"
      ],
      "metadata": {
        "colab": {
          "base_uri": "https://localhost:8080/"
        },
        "id": "Y4JuPx4vRe6Z",
        "outputId": "d7ef295f-cc51-48bb-a8af-3fb0339f0f1b"
      },
      "execution_count": 17,
      "outputs": [
        {
          "output_type": "stream",
          "name": "stdout",
          "text": [
            "Max Sentence Length: 104\n"
          ]
        }
      ]
    },
    {
      "cell_type": "code",
      "source": [
        "# Tags Occurance Histogram\n",
        "from collections import Counter\n",
        "\n",
        "list_of_sentences_tags = [tag for sentence_tags in sentences_tags for tag in sentence_tags]\n",
        "tag_counts_counter = Counter(list_of_sentences_tags)\n",
        "tag_counts = tag_counts_counter.most_common()\n",
        "print(f\"{tag_counts}\")\n",
        "tag_names = [x[0] for x in tag_counts]\n",
        "tag_counts = [x[1] for x in tag_counts]\n",
        "fig, ax= plt.subplots(nrows=1, ncols=1, figsize=(12, 8))\n",
        "ax.bar(x=tag_names, height=tag_counts, color='purple', log=True)\n",
        "ax.set_xlabel('Tag')\n",
        "ax.set_ylabel('Counts')\n",
        "ax.set_title('Tag Counts')"
      ],
      "metadata": {
        "colab": {
          "base_uri": "https://localhost:8080/",
          "height": 0
        },
        "id": "u2Np7236Rs9A",
        "outputId": "8d630c51-f704-459b-c007-18608ede01b2"
      },
      "execution_count": 18,
      "outputs": [
        {
          "output_type": "stream",
          "name": "stdout",
          "text": [
            "[('O', 887908), ('B-geo', 37644), ('B-tim', 20333), ('B-org', 20143), ('I-per', 17251), ('B-per', 16990), ('I-org', 16784), ('B-gpe', 15870), ('I-geo', 7414), ('I-tim', 6528), ('B-art', 402), ('B-eve', 308), ('I-art', 297), ('I-eve', 253), ('B-nat', 201), ('I-gpe', 198), ('I-nat', 51)]\n"
          ]
        },
        {
          "output_type": "execute_result",
          "data": {
            "text/plain": [
              "Text(0.5, 1.0, 'Tag Counts')"
            ]
          },
          "metadata": {},
          "execution_count": 18
        },
        {
          "output_type": "display_data",
          "data": {
            "text/plain": [
              "<Figure size 864x576 with 1 Axes>"
            ],
            "image/png": "[encoded data removed]"
          },
          "metadata": {
            "needs_background": "light"
          }
        }
      ]
    },
    {
      "cell_type": "code",
      "source": [
        "TAGS_COUNT = len(tag_names)\n",
        "TAGS_COUNT"
      ],
      "metadata": {
        "colab": {
          "base_uri": "https://localhost:8080/"
        },
        "id": "UMvGSisBXOff",
        "outputId": "04175b57-ee92-47df-8d71-7550f4a6b184"
      },
      "execution_count": 19,
      "outputs": [
        {
          "output_type": "execute_result",
          "data": {
            "text/plain": [
              "17"
            ]
          },
          "metadata": {},
          "execution_count": 19
        }
      ]
    },
    {
      "cell_type": "markdown",
      "source": [
        "## Split Dataset"
      ],
      "metadata": {
        "id": "gUctwcwFXYEY"
      }
    },
    {
      "cell_type": "code",
      "source": [
        "# Split dataset into Train , Validation and Test\n",
        "from sklearn.model_selection import train_test_split\n",
        "sentences_train, sentences_test, tags_train, tags_test = train_test_split(sentences, sentences_tags, random_state=seed, test_size=.2)\n",
        "sentences_test, sentences_val, tags_test, tags_val = train_test_split(sentences_test, tags_test, random_state=seed, test_size=.5)\n",
        "print(f\"Train Sentences:{len(sentences_train)}\")\n",
        "print(f\"Train Tags:{len(tags_train)}\")\n",
        "print(f\"Validation Sentences:{len(sentences_val)}\")\n",
        "print(f\"Validation Tags:{len(tags_val)}\")\n",
        "print(f\"Test Sentences:{len(sentences_test)}\")\n",
        "print(f\"Test Tags:{len(tags_test)}\")"
      ],
      "metadata": {
        "colab": {
          "base_uri": "https://localhost:8080/"
        },
        "id": "k6eMrmK17jJ4",
        "outputId": "76c687e7-acdb-49f4-d6d1-c77a0183eb40"
      },
      "execution_count": 20,
      "outputs": [
        {
          "output_type": "stream",
          "name": "stdout",
          "text": [
            "Train Sentences:38367\n",
            "Train Tags:38367\n",
            "Validation Sentences:4796\n",
            "Validation Tags:4796\n",
            "Test Sentences:4796\n",
            "Test Tags:4796\n"
          ]
        }
      ]
    },
    {
      "cell_type": "markdown",
      "source": [
        "## Prepare Data"
      ],
      "metadata": {
        "id": "5hQiQIIheURP"
      }
    },
    {
      "cell_type": "code",
      "source": [
        "# Choose Vocabulary Size\n",
        "print(f\"Total words in Train Sentences: {word_count(sentences_train)}\")"
      ],
      "metadata": {
        "colab": {
          "base_uri": "https://localhost:8080/"
        },
        "id": "-q27uxbTZw0n",
        "outputId": "0fdc2cf8-e052-4b51-e4b3-7d9e636bbb75"
      },
      "execution_count": 21,
      "outputs": [
        {
          "output_type": "stream",
          "name": "stdout",
          "text": [
            "Total words in Train Sentences: 29073\n"
          ]
        }
      ]
    },
    {
      "cell_type": "code",
      "source": [
        "VOCABULARY_SIZE = 27000\n",
        "OUTPUT_SEQUENCE_LENGTH = MAX_SENTENCE_LENGTH"
      ],
      "metadata": {
        "id": "WP8T75yMAyUn"
      },
      "execution_count": 22,
      "outputs": []
    },
    {
      "cell_type": "code",
      "source": [
        "# Tokenize the Sentences\n",
        "sentence_tokenizer = tf.keras.layers.TextVectorization(max_tokens=VOCABULARY_SIZE, standardize='lower', split='whitespace', output_mode='int', output_sequence_length=OUTPUT_SEQUENCE_LENGTH)\n",
        "sentence_tokenizer.adapt(sentences_train)\n",
        "sentence_tokenizer.vocabulary_size()"
      ],
      "metadata": {
        "colab": {
          "base_uri": "https://localhost:8080/"
        },
        "id": "uWfbarjR_RrO",
        "outputId": "5b3202b6-b24f-4c5a-b736-b2410b2d1a85"
      },
      "execution_count": 23,
      "outputs": [
        {
          "output_type": "execute_result",
          "data": {
            "text/plain": [
              "27000"
            ]
          },
          "metadata": {},
          "execution_count": 23
        }
      ]
    },
    {
      "cell_type": "code",
      "source": [
        "def vectorize_sentences(sentences):\n",
        "  \"\"\"\n",
        "  Convert List of Sentences to Array of tokens\n",
        "  :param sentences: List of sentences\n",
        "  :return : Array of tokens padded to OUTPUT_SEQUENCE_LENGTH\n",
        "  \"\"\"\n",
        "  return sentence_tokenizer(sentences)"
      ],
      "metadata": {
        "id": "ZGCI6XRvG7S6"
      },
      "execution_count": 24,
      "outputs": []
    },
    {
      "cell_type": "code",
      "source": [
        "data_train = vectorize_sentences(sentences = sentences_train)\n",
        "data_val = vectorize_sentences(sentences = sentences_val)\n",
        "data_test = vectorize_sentences(sentences = sentences_test)\n",
        "print(f\"Data Train shape : {data_train.shape}\")\n",
        "print(f\"Data Val shape : {data_val.shape}\")\n",
        "print(f\"Data Test shape : {data_test.shape}\")"
      ],
      "metadata": {
        "colab": {
          "base_uri": "https://localhost:8080/"
        },
        "id": "p6IhGWO5HOBX",
        "outputId": "e2dffbc0-8ba5-4765-ede3-faff47d7bbe9"
      },
      "execution_count": 25,
      "outputs": [
        {
          "output_type": "stream",
          "name": "stdout",
          "text": [
            "Data Train shape : (38367, 104)\n",
            "Data Val shape : (4796, 104)\n",
            "Data Test shape : (4796, 104)\n"
          ]
        }
      ]
    },
    {
      "cell_type": "code",
      "source": [
        "data_train[:2]"
      ],
      "metadata": {
        "colab": {
          "base_uri": "https://localhost:8080/"
        },
        "id": "b2tjnfl-Ic_K",
        "outputId": "0cc4b868-f28c-4bb5-aed0-002fa4435c28"
      },
      "execution_count": 26,
      "outputs": [
        {
          "output_type": "execute_result",
          "data": {
            "text/plain": [
              "<tf.Tensor: shape=(2, 104), dtype=int64, numpy=\n",
              "array([[    2,    82,  6942, 21683,     5,     8,   278,     6,  1775,\n",
              "            4,   142,  4145,     4,     2,  2794,   842,     4,     9,\n",
              "            2,  6024,   492,     3,     0,     0,     0,     0,     0,\n",
              "            0,     0,     0,     0,     0,     0,     0,     0,     0,\n",
              "            0,     0,     0,     0,     0,     0,     0,     0,     0,\n",
              "            0,     0,     0,     0,     0,     0,     0,     0,     0,\n",
              "            0,     0,     0,     0,     0,     0,     0,     0,     0,\n",
              "            0,     0,     0,     0,     0,     0,     0,     0,     0,\n",
              "            0,     0,     0,     0,     0,     0,     0,     0,     0,\n",
              "            0,     0,     0,     0,     0,     0,     0,     0,     0,\n",
              "            0,     0,     0,     0,     0,     0,     0,     0,     0,\n",
              "            0,     0,     0,     0,     0],\n",
              "       [ 2280,   482,     2,  1852,  6760, 19845,    72,     5,     1,\n",
              "         2309,     3,     0,     0,     0,     0,     0,     0,     0,\n",
              "            0,     0,     0,     0,     0,     0,     0,     0,     0,\n",
              "            0,     0,     0,     0,     0,     0,     0,     0,     0,\n",
              "            0,     0,     0,     0,     0,     0,     0,     0,     0,\n",
              "            0,     0,     0,     0,     0,     0,     0,     0,     0,\n",
              "            0,     0,     0,     0,     0,     0,     0,     0,     0,\n",
              "            0,     0,     0,     0,     0,     0,     0,     0,     0,\n",
              "            0,     0,     0,     0,     0,     0,     0,     0,     0,\n",
              "            0,     0,     0,     0,     0,     0,     0,     0,     0,\n",
              "            0,     0,     0,     0,     0,     0,     0,     0,     0,\n",
              "            0,     0,     0,     0,     0]])>"
            ]
          },
          "metadata": {},
          "execution_count": 26
        }
      ]
    },
    {
      "cell_type": "code",
      "source": [
        "# Tokenize Tags\n",
        "tags_tokenizer = tf.keras.layers.StringLookup(max_tokens=None, num_oov_indices=0, mask_token=\"M-Token\", output_mode=\"int\")\n",
        "tags_tokenizer.adapt(tf.ragged.constant(tags_train))\n",
        "tags_tokenizer.vocabulary_size()"
      ],
      "metadata": {
        "colab": {
          "base_uri": "https://localhost:8080/"
        },
        "id": "srpINMQTH3jc",
        "outputId": "fb6e4883-9738-4823-dfcf-a4a559a0ae02"
      },
      "execution_count": 27,
      "outputs": [
        {
          "output_type": "execute_result",
          "data": {
            "text/plain": [
              "18"
            ]
          },
          "metadata": {},
          "execution_count": 27
        }
      ]
    },
    {
      "cell_type": "code",
      "source": [
        "tags_vocab = tags_tokenizer.get_vocabulary()\n",
        "tags_vocab"
      ],
      "metadata": {
        "colab": {
          "base_uri": "https://localhost:8080/"
        },
        "id": "lIxwZevxJZ84",
        "outputId": "b99231b6-ac16-4687-e1a5-58253289768b"
      },
      "execution_count": 28,
      "outputs": [
        {
          "output_type": "execute_result",
          "data": {
            "text/plain": [
              "['M-Token',\n",
              " 'O',\n",
              " 'B-geo',\n",
              " 'B-tim',\n",
              " 'B-org',\n",
              " 'I-per',\n",
              " 'B-per',\n",
              " 'I-org',\n",
              " 'B-gpe',\n",
              " 'I-geo',\n",
              " 'I-tim',\n",
              " 'B-art',\n",
              " 'I-art',\n",
              " 'B-eve',\n",
              " 'I-eve',\n",
              " 'I-gpe',\n",
              " 'B-nat',\n",
              " 'I-nat']"
            ]
          },
          "metadata": {},
          "execution_count": 28
        }
      ]
    },
    {
      "cell_type": "code",
      "source": [
        "tags2ind = {tag: ind for ind, tag in enumerate(tags_vocab)}\n",
        "tags2ind"
      ],
      "metadata": {
        "colab": {
          "base_uri": "https://localhost:8080/"
        },
        "id": "y8XL1sf_k0Ka",
        "outputId": "13e27909-2e87-4bf5-c703-0b9656ced2c3"
      },
      "execution_count": 29,
      "outputs": [
        {
          "output_type": "execute_result",
          "data": {
            "text/plain": [
              "{'M-Token': 0,\n",
              " 'O': 1,\n",
              " 'B-geo': 2,\n",
              " 'B-tim': 3,\n",
              " 'B-org': 4,\n",
              " 'I-per': 5,\n",
              " 'B-per': 6,\n",
              " 'I-org': 7,\n",
              " 'B-gpe': 8,\n",
              " 'I-geo': 9,\n",
              " 'I-tim': 10,\n",
              " 'B-art': 11,\n",
              " 'I-art': 12,\n",
              " 'B-eve': 13,\n",
              " 'I-eve': 14,\n",
              " 'I-gpe': 15,\n",
              " 'B-nat': 16,\n",
              " 'I-nat': 17}"
            ]
          },
          "metadata": {},
          "execution_count": 29
        }
      ]
    },
    {
      "cell_type": "code",
      "source": [
        "ind2tag = {value: key for key, value in tags2ind.items()}\n",
        "ind2tag"
      ],
      "metadata": {
        "colab": {
          "base_uri": "https://localhost:8080/"
        },
        "id": "loD7hP8zk8MJ",
        "outputId": "76ae1ace-017b-4a4d-efa8-87a4022f8a56"
      },
      "execution_count": 30,
      "outputs": [
        {
          "output_type": "execute_result",
          "data": {
            "text/plain": [
              "{0: 'M-Token',\n",
              " 1: 'O',\n",
              " 2: 'B-geo',\n",
              " 3: 'B-tim',\n",
              " 4: 'B-org',\n",
              " 5: 'I-per',\n",
              " 6: 'B-per',\n",
              " 7: 'I-org',\n",
              " 8: 'B-gpe',\n",
              " 9: 'I-geo',\n",
              " 10: 'I-tim',\n",
              " 11: 'B-art',\n",
              " 12: 'I-art',\n",
              " 13: 'B-eve',\n",
              " 14: 'I-eve',\n",
              " 15: 'I-gpe',\n",
              " 16: 'B-nat',\n",
              " 17: 'I-nat'}"
            ]
          },
          "metadata": {},
          "execution_count": 30
        }
      ]
    },
    {
      "cell_type": "code",
      "source": [
        "def vectorize_tags(tags):\n",
        "  \"\"\"\n",
        "  Convert Tags to Tokens\n",
        "  :params tags: List of Sentences tags\n",
        "  :return : Tokens Array\n",
        "  \"\"\"\n",
        "  v_tags = tags_tokenizer(tf.ragged.constant(tags))\n",
        "  return tf.keras.preprocessing.sequence.pad_sequences(v_tags.numpy(), maxlen=OUTPUT_SEQUENCE_LENGTH, padding='post', truncating='post', value=0)"
      ],
      "metadata": {
        "id": "QpobP2C7Iuih"
      },
      "execution_count": 31,
      "outputs": []
    },
    {
      "cell_type": "code",
      "source": [
        "v_tags_train = vectorize_tags(tags = tags_train)\n",
        "v_tags_val = vectorize_tags(tags = tags_val)\n",
        "v_tags_test = vectorize_tags(tags = tags_test)\n",
        "print(f\"Tags Train shape : {v_tags_train.shape}\")\n",
        "print(f\"Tags Val shape : {v_tags_val.shape}\")\n",
        "print(f\"Tags Test shape : {v_tags_test.shape}\")"
      ],
      "metadata": {
        "colab": {
          "base_uri": "https://localhost:8080/"
        },
        "id": "nk8WKvBaInYJ",
        "outputId": "54979b18-4578-4167-a3ac-dac6d1ee1a0b"
      },
      "execution_count": 32,
      "outputs": [
        {
          "output_type": "stream",
          "name": "stdout",
          "text": [
            "Tags Train shape : (38367, 104)\n",
            "Tags Val shape : (4796, 104)\n",
            "Tags Test shape : (4796, 104)\n"
          ]
        }
      ]
    },
    {
      "cell_type": "markdown",
      "source": [
        "## Build and Train Model"
      ],
      "metadata": {
        "id": "euh6_dd8nU1a"
      }
    },
    {
      "cell_type": "code",
      "source": [
        "# Model\n",
        "def get_model():\n",
        "  \"\"\"\n",
        "  Sequential Model\n",
        "  \"\"\"\n",
        "  model = tf.keras.Sequential(\n",
        "      layers = [\n",
        "          tf.keras.layers.Input(shape=(OUTPUT_SEQUENCE_LENGTH,), batch_size=None, name=\"input\", dtype=tf.int64),\n",
        "          tf.keras.layers.Embedding(input_dim=VOCABULARY_SIZE, output_dim=64, mask_zero=True ,name=\"embedding\"),\n",
        "          tf.keras.layers.Bidirectional(tf.keras.layers.LSTM(units = 32,return_sequences=True), name=\"lstm-1\"),\n",
        "          tf.keras.layers.Bidirectional(tf.keras.layers.LSTM(units = 32, return_sequences=True), name=\"lstm-2\"),\n",
        "          tf.keras.layers.Dense(units=tags_tokenizer.vocabulary_size(), activation='softmax', name='final_dense')\n",
        "      ]\n",
        "  )\n",
        "  return model"
      ],
      "metadata": {
        "id": "IWjODVcXHG1V"
      },
      "execution_count": 33,
      "outputs": []
    },
    {
      "cell_type": "code",
      "source": [
        "# model\n",
        "model = get_model()\n",
        "model.summary()"
      ],
      "metadata": {
        "colab": {
          "base_uri": "https://localhost:8080/"
        },
        "id": "pfOtBSYNPdUx",
        "outputId": "6beddeb1-c5c1-4945-ea42-d8c345ab0c39"
      },
      "execution_count": 34,
      "outputs": [
        {
          "output_type": "stream",
          "name": "stdout",
          "text": [
            "Model: \"sequential\"\n",
            "_________________________________________________________________\n",
            " Layer (type)                Output Shape              Param #   \n",
            "=================================================================\n",
            " embedding (Embedding)       (None, 104, 64)           1728000   \n",
            "                                                                 \n",
            " lstm-1 (Bidirectional)      (None, 104, 64)           24832     \n",
            "                                                                 \n",
            " lstm-2 (Bidirectional)      (None, 104, 64)           24832     \n",
            "                                                                 \n",
            " final_dense (Dense)         (None, 104, 18)           1170      \n",
            "                                                                 \n",
            "=================================================================\n",
            "Total params: 1,778,834\n",
            "Trainable params: 1,778,834\n",
            "Non-trainable params: 0\n",
            "_________________________________________________________________\n"
          ]
        }
      ]
    },
    {
      "cell_type": "code",
      "source": [
        "class CustomSparseCategoricalCrossentropy(tf.keras.losses.Loss):\n",
        "  \"\"\"\n",
        "  Ignore Padding when computing the loss\n",
        "  \"\"\"\n",
        "  def call(self, y_true, y_pred):\n",
        "    loss_fn = tf.keras.losses.SparseCategoricalCrossentropy(from_logits=False, \n",
        "                reduction = tf.keras.losses.Reduction.NONE)\n",
        "    loss = loss_fn(y_true, y_pred)\n",
        "    mask = tf.cast((y_true > 0), dtype = tf.float32)\n",
        "    loss = loss*mask\n",
        "    return tf.reduce_sum(loss)/tf.reduce_sum(mask)\n",
        "    "
      ],
      "metadata": {
        "id": "qnS6vroxxukE"
      },
      "execution_count": 35,
      "outputs": []
    },
    {
      "cell_type": "code",
      "source": [
        "\n",
        "def custom_accuracy(y_true, y_pred):\n",
        "  \"\"\"\n",
        "  Ignore Padding when computing the Accuracy\n",
        "  \"\"\"\n",
        "  is_true_equals_pred = tf.keras.metrics.sparse_categorical_accuracy(y_true, y_pred)\n",
        "  mask = tf.cast((y_true > 0), dtype = tf.float32)\n",
        "  is_true_equals_pred = is_true_equals_pred*mask\n",
        "  return tf.reduce_sum(is_true_equals_pred)/tf.reduce_sum(mask)"
      ],
      "metadata": {
        "id": "TswUSxGiy5rS"
      },
      "execution_count": 36,
      "outputs": []
    },
    {
      "cell_type": "code",
      "source": [
        "EPOCHS = 10\n",
        "BATCH_SIZE = 32"
      ],
      "metadata": {
        "id": "mQ4d7eJOSJo0"
      },
      "execution_count": 37,
      "outputs": []
    },
    {
      "cell_type": "code",
      "source": [
        "# compile the model\n",
        "model.compile(optimizer='adam', loss=CustomSparseCategoricalCrossentropy(), metrics=[\"accuracy\",\"sparse_categorical_accuracy\" ,custom_accuracy,\n",
        "                                                                                     \"sparse_categorical_crossentropy\"])"
      ],
      "metadata": {
        "id": "JOfD7O2UP_m3"
      },
      "execution_count": 38,
      "outputs": []
    },
    {
      "cell_type": "code",
      "source": [
        "# train\n",
        "history = model.fit(x=data_train, y=v_tags_train, batch_size=BATCH_SIZE, epochs=EPOCHS, validation_data=(data_val, v_tags_val))"
      ],
      "metadata": {
        "colab": {
          "base_uri": "https://localhost:8080/"
        },
        "id": "um40vColQ2xs",
        "outputId": "9dcef6f6-2ea1-4871-944e-20450bd2dad7"
      },
      "execution_count": 39,
      "outputs": [
        {
          "output_type": "stream",
          "name": "stdout",
          "text": [
            "Epoch 1/10\n",
            "1199/1199 [==============================] - 352s 278ms/step - loss: 0.0889 - accuracy: 0.8980 - sparse_categorical_accuracy: 0.8980 - custom_accuracy: 0.8980 - sparse_categorical_crossentropy: 0.4231 - val_loss: 0.0395 - val_accuracy: 0.9479 - val_sparse_categorical_accuracy: 0.9479 - val_custom_accuracy: 0.9479 - val_sparse_categorical_crossentropy: 0.1866\n",
            "Epoch 2/10\n",
            "1199/1199 [==============================] - 331s 276ms/step - loss: 0.0297 - accuracy: 0.9594 - sparse_categorical_accuracy: 0.9594 - custom_accuracy: 0.9594 - sparse_categorical_crossentropy: 0.1415 - val_loss: 0.0315 - val_accuracy: 0.9575 - val_sparse_categorical_accuracy: 0.9575 - val_custom_accuracy: 0.9575 - val_sparse_categorical_crossentropy: 0.1487\n",
            "Epoch 3/10\n",
            "1199/1199 [==============================] - 346s 289ms/step - loss: 0.0225 - accuracy: 0.9684 - sparse_categorical_accuracy: 0.9684 - custom_accuracy: 0.9684 - sparse_categorical_crossentropy: 0.1070 - val_loss: 0.0300 - val_accuracy: 0.9588 - val_sparse_categorical_accuracy: 0.9588 - val_custom_accuracy: 0.9588 - val_sparse_categorical_crossentropy: 0.1416\n",
            "Epoch 4/10\n",
            "1199/1199 [==============================] - 340s 283ms/step - loss: 0.0191 - accuracy: 0.9726 - sparse_categorical_accuracy: 0.9726 - custom_accuracy: 0.9726 - sparse_categorical_crossentropy: 0.0909 - val_loss: 0.0300 - val_accuracy: 0.9598 - val_sparse_categorical_accuracy: 0.9598 - val_custom_accuracy: 0.9598 - val_sparse_categorical_crossentropy: 0.1417\n",
            "Epoch 5/10\n",
            "1199/1199 [==============================] - 326s 272ms/step - loss: 0.0166 - accuracy: 0.9758 - sparse_categorical_accuracy: 0.9758 - custom_accuracy: 0.9758 - sparse_categorical_crossentropy: 0.0791 - val_loss: 0.0306 - val_accuracy: 0.9595 - val_sparse_categorical_accuracy: 0.9595 - val_custom_accuracy: 0.9595 - val_sparse_categorical_crossentropy: 0.1444\n",
            "Epoch 6/10\n",
            "1199/1199 [==============================] - 333s 278ms/step - loss: 0.0147 - accuracy: 0.9783 - sparse_categorical_accuracy: 0.9783 - custom_accuracy: 0.9783 - sparse_categorical_crossentropy: 0.0699 - val_loss: 0.0320 - val_accuracy: 0.9579 - val_sparse_categorical_accuracy: 0.9579 - val_custom_accuracy: 0.9579 - val_sparse_categorical_crossentropy: 0.1510\n",
            "Epoch 7/10\n",
            "1199/1199 [==============================] - 323s 269ms/step - loss: 0.0129 - accuracy: 0.9809 - sparse_categorical_accuracy: 0.9809 - custom_accuracy: 0.9809 - sparse_categorical_crossentropy: 0.0615 - val_loss: 0.0339 - val_accuracy: 0.9577 - val_sparse_categorical_accuracy: 0.9577 - val_custom_accuracy: 0.9577 - val_sparse_categorical_crossentropy: 0.1601\n",
            "Epoch 8/10\n",
            "1199/1199 [==============================] - 318s 265ms/step - loss: 0.0114 - accuracy: 0.9830 - sparse_categorical_accuracy: 0.9830 - custom_accuracy: 0.9830 - sparse_categorical_crossentropy: 0.0542 - val_loss: 0.0369 - val_accuracy: 0.9584 - val_sparse_categorical_accuracy: 0.9584 - val_custom_accuracy: 0.9584 - val_sparse_categorical_crossentropy: 0.1740\n",
            "Epoch 9/10\n",
            "1199/1199 [==============================] - 308s 257ms/step - loss: 0.0100 - accuracy: 0.9853 - sparse_categorical_accuracy: 0.9853 - custom_accuracy: 0.9853 - sparse_categorical_crossentropy: 0.0474 - val_loss: 0.0375 - val_accuracy: 0.9572 - val_sparse_categorical_accuracy: 0.9572 - val_custom_accuracy: 0.9572 - val_sparse_categorical_crossentropy: 0.1770\n",
            "Epoch 10/10\n",
            "1199/1199 [==============================] - 295s 246ms/step - loss: 0.0088 - accuracy: 0.9871 - sparse_categorical_accuracy: 0.9871 - custom_accuracy: 0.9871 - sparse_categorical_crossentropy: 0.0417 - val_loss: 0.0413 - val_accuracy: 0.9574 - val_sparse_categorical_accuracy: 0.9574 - val_custom_accuracy: 0.9574 - val_sparse_categorical_crossentropy: 0.1949\n"
          ]
        }
      ]
    },
    {
      "cell_type": "code",
      "source": [
        "# plot metrics\n",
        "fig, axs = plt.subplots(nrows=1, ncols=2, figsize=(15, 8))\n",
        "epochs = range(1, EPOCHS+1)\n",
        "axs[0].plot(epochs, history.history['custom_accuracy'], label='Training')\n",
        "axs[0].plot(epochs, history.history['val_custom_accuracy'], label='Validation')\n",
        "axs[0].set_xlabel('Epoch')\n",
        "axs[0].set_ylabel('Accuracy')\n",
        "axs[0].set_title('Accuracy Plot')\n",
        "axs[0].legend()\n",
        "# loss\n",
        "axs[1].plot(epochs, history.history['loss'], label='Training')\n",
        "axs[1].plot(epochs, history.history['val_loss'], label='Validation')\n",
        "axs[1].set_xlabel('Epoch')\n",
        "axs[1].set_ylabel('Loss')\n",
        "axs[1].set_title('Loss Plot')\n",
        "axs[1].legend()\n",
        "fig.suptitle('Learning Curves')\n",
        "fig.legend()\n"
      ],
      "metadata": {
        "id": "iQopieLQFXbg",
        "colab": {
          "base_uri": "https://localhost:8080/",
          "height": 503
        },
        "outputId": "272f4793-8ad8-47f5-bd8f-f5039df20b70"
      },
      "execution_count": 42,
      "outputs": [
        {
          "output_type": "execute_result",
          "data": {
            "text/plain": [
              "<matplotlib.legend.Legend at 0x7f95db1eaad0>"
            ]
          },
          "metadata": {},
          "execution_count": 42
        },
        {
          "output_type": "display_data",
          "data": {
            "text/plain": [
              "<Figure size 1080x576 with 2 Axes>"
            ],
            "image/png": "[encoded data removed]"
          },
          "metadata": {
            "needs_background": "light"
          }
        }
      ]
    },
    {
      "cell_type": "code",
      "source": [
        "model.evaluate(x=data_test, y=v_tags_test)"
      ],
      "metadata": {
        "id": "hl6n3dVYTQ_6",
        "colab": {
          "base_uri": "https://localhost:8080/"
        },
        "outputId": "2ce45004-fc62-4f73-e297-3a712da0b72f"
      },
      "execution_count": 43,
      "outputs": [
        {
          "output_type": "stream",
          "name": "stdout",
          "text": [
            "150/150 [==============================] - 8s 56ms/step - loss: 0.0415 - accuracy: 0.9563 - sparse_categorical_accuracy: 0.9563 - custom_accuracy: 0.9563 - sparse_categorical_crossentropy: 0.1979\n"
          ]
        },
        {
          "output_type": "execute_result",
          "data": {
            "text/plain": [
              "[0.041497524827718735,\n",
              " 0.9563388228416443,\n",
              " 0.9563388228416443,\n",
              " 0.9563388228416443,\n",
              " 0.19792215526103973]"
            ]
          },
          "metadata": {},
          "execution_count": 43
        }
      ]
    },
    {
      "cell_type": "code",
      "source": [
        "def predict_tags(sentence):\n",
        "  print(f\"sentence: {sentence}\")\n",
        "  tokenized_sentence = vectorize_sentences(sentences = [sentence])\n",
        "  # predict\n",
        "  tags_prob_predicted = model.predict(tokenized_sentence)\n",
        "  v_tags_predicted = tags_prob_predicted[0].argmax(axis=1)\n",
        "  tags_predicted = [tags_tokenizer.get_vocabulary()[tag_id] for tag_id in v_tags_predicted]\n",
        "  return tags_predicted"
      ],
      "metadata": {
        "id": "VM8O5DUkUpu5"
      },
      "execution_count": 44,
      "outputs": []
    },
    {
      "cell_type": "code",
      "source": [
        "idx = 10\n",
        "sentence = sentences_train[idx]\n",
        "tags_predicted = predict_tags(sentence=sentence)\n",
        "words = sentence.split(\" \")\n",
        "true_tags = tags_train[idx]\n",
        "for word, true_tag, pred_tag in zip(words, true_tags, tags_predicted):\n",
        "  print(f\"{word}: {(true_tag, pred_tag)}\")"
      ],
      "metadata": {
        "id": "Ss1nfmpXWDth",
        "colab": {
          "base_uri": "https://localhost:8080/"
        },
        "outputId": "6e0f11f2-2ead-4c4d-d518-0752a9d4c009"
      },
      "execution_count": 45,
      "outputs": [
        {
          "output_type": "stream",
          "name": "stdout",
          "text": [
            "sentence: And Iraq 's military called on Iran to release nine coast guard sailors seized in a dispute on the Shatt al-Arab waterway .\n",
            "And: ('O', 'O')\n",
            "Iraq: ('B-geo', 'B-geo')\n",
            "'s: ('O', 'O')\n",
            "military: ('O', 'O')\n",
            "called: ('O', 'O')\n",
            "on: ('O', 'O')\n",
            "Iran: ('B-geo', 'B-geo')\n",
            "to: ('O', 'O')\n",
            "release: ('O', 'O')\n",
            "nine: ('O', 'O')\n",
            "coast: ('O', 'O')\n",
            "guard: ('O', 'O')\n",
            "sailors: ('O', 'O')\n",
            "seized: ('O', 'O')\n",
            "in: ('O', 'O')\n",
            "a: ('O', 'O')\n",
            "dispute: ('O', 'O')\n",
            "on: ('O', 'O')\n",
            "the: ('O', 'O')\n",
            "Shatt: ('B-org', 'B-org')\n",
            "al-Arab: ('I-org', 'I-org')\n",
            "waterway: ('O', 'O')\n",
            ".: ('O', 'O')\n"
          ]
        }
      ]
    },
    {
      "cell_type": "code",
      "source": [
        "sentence = \"Peter Navarro, the White House director of trade and manufacturing policy of U.S, said in an interview on Sunday morning that the White House was working to prepare for the possibility of a second wave of the coronavirus in the fall, though he said it wouldn’t necessarily come\"\n",
        "words = sentence.split(\" \")\n",
        "tags_predicted = predict_tags(sentence=sentence)\n",
        "for word, pred_tag in zip(words, tags_predicted):\n",
        "  print(f\"{word}: {(pred_tag)}\")"
      ],
      "metadata": {
        "id": "slzONDtHbWQW",
        "colab": {
          "base_uri": "https://localhost:8080/"
        },
        "outputId": "c30df551-5824-4dc9-a926-6d2cabf23676"
      },
      "execution_count": 46,
      "outputs": [
        {
          "output_type": "stream",
          "name": "stdout",
          "text": [
            "sentence: Peter Navarro, the White House director of trade and manufacturing policy of U.S, said in an interview on Sunday morning that the White House was working to prepare for the possibility of a second wave of the coronavirus in the fall, though he said it wouldn’t necessarily come\n",
            "Peter: B-per\n",
            "Navarro,: I-per\n",
            "the: O\n",
            "White: B-org\n",
            "House: I-org\n",
            "director: O\n",
            "of: O\n",
            "trade: O\n",
            "and: O\n",
            "manufacturing: O\n",
            "policy: O\n",
            "of: O\n",
            "U.S,: O\n",
            "said: O\n",
            "in: O\n",
            "an: O\n",
            "interview: O\n",
            "on: O\n",
            "Sunday: B-tim\n",
            "morning: I-tim\n",
            "that: O\n",
            "the: O\n",
            "White: B-org\n",
            "House: I-org\n",
            "was: O\n",
            "working: O\n",
            "to: O\n",
            "prepare: O\n",
            "for: O\n",
            "the: O\n",
            "possibility: O\n",
            "of: O\n",
            "a: O\n",
            "second: O\n",
            "wave: O\n",
            "of: O\n",
            "the: O\n",
            "coronavirus: O\n",
            "in: O\n",
            "the: O\n",
            "fall,: O\n",
            "though: O\n",
            "he: O\n",
            "said: O\n",
            "it: O\n",
            "wouldn’t: O\n",
            "necessarily: O\n",
            "come: O\n"
          ]
        }
      ]
    }
  ]
}